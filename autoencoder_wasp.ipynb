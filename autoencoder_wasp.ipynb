{
 "cells": [
  {
   "cell_type": "code",
   "execution_count": 1,
   "metadata": {},
   "outputs": [],
   "source": [
    "\n",
    "import torch\n",
    "import sys\n",
    "from torch.utils.data import DataLoader\n",
    "from torchvision.transforms import Lambda\n",
    "import numpy as np\n",
    "import pandas as pd\n",
    "import matplotlib.pyplot as plt\n",
    "import torchvision\n",
    "import torchvision.transforms as transforms\n",
    "import torch\n",
    "import torch.nn as nn\n",
    "from data import DAGMDataset\n",
    "from settings import TRAINING_LABEL_FILE_PATH, TEST_LABEL_FILE_PATH\n",
    "import matplotlib.pyplot as plt\n",
    "from torchvision.io import read_image\n",
    "from tqdm.notebook import tqdm\n",
    "device = torch.device(\"cuda:0\" if torch.cuda.is_available() else \"cpu\")"
   ]
  },
  {
   "cell_type": "code",
   "execution_count": 2,
   "metadata": {},
   "outputs": [],
   "source": [
    "class AEDataset(DAGMDataset):\n",
    "    def __init__(self, meta_file, transform=None, target_transform=None, defect_only=False):\n",
    "        super(AEDataset, self).__init__(meta_file,transform,target_transform, defect_only)\n",
    "        self.meta_df=self.meta_df[self.meta_df[\"class\"]==1]\n",
    "\n",
    "    def __getitem__(self,idx):\n",
    "        img_path = self.meta_df[\"img_file\"].iloc[idx]\n",
    "        image = read_image(img_path).float()\n",
    "        has_defect = self.meta_df[\"has_defect\"].iloc[idx] == 1\n",
    "        defect_mask_path = str(self.meta_df[\"label_file\"].iloc[idx])\n",
    "        if self.transform:\n",
    "            image = self.transform(image)\n",
    "        if has_defect:\n",
    "            defect_mask = read_image(defect_mask_path).flatten().float()\n",
    "        else:\n",
    "            defect_mask = torch.zeros(512**2, dtype=torch.float)\n",
    "\n",
    "        defect_mask[defect_mask!=0.]=1\n",
    "        #defect_mask is a 512**2 binary tensor\n",
    "        return image.float(), defect_mask.float()\n",
    "\n"
   ]
  },
  {
   "cell_type": "code",
   "execution_count": 3,
   "metadata": {},
   "outputs": [],
   "source": [
    "transform = transforms.Normalize((0,), (255,))\n",
    "\n",
    "batch_size=2\n",
    "defect_only = True\n",
    "training_set = AEDataset(meta_file=TRAINING_LABEL_FILE_PATH, transform=transform, defect_only=defect_only)\n",
    "testing_set = AEDataset(meta_file=TEST_LABEL_FILE_PATH, transform=transform, defect_only=defect_only)\n",
    "train_dataloader = DataLoader(training_set, batch_size=batch_size, shuffle=True)\n",
    "test_dataloader = DataLoader(testing_set, batch_size=batch_size, shuffle=True)"
   ]
  },
  {
   "cell_type": "code",
   "execution_count": 4,
   "metadata": {},
   "outputs": [],
   "source": [
    "class autoencoder_wasp(nn.Module):\n",
    "    def __init__(self):\n",
    "        super(autoencoder_wasp, self).__init__()\n",
    "        channel=64\n",
    "        self.layer1 = nn.Sequential(\n",
    "            nn.Conv2d(in_channels=1, out_channels=channel, kernel_size=3,padding=1),\n",
    "            nn.ReLU(),   \n",
    "        )\n",
    "\n",
    "        self.layer2 = nn.Sequential(\n",
    "            nn.Conv2d(in_channels=channel, out_channels=2*channel, kernel_size=3,padding=1),\n",
    "            nn.ReLU(),   \n",
    "        )\n",
    "\n",
    "        self.layer3 = nn.MaxPool2d(2,2)\n",
    "        \n",
    "        coe=2\n",
    "        self.wasp4=nn.Conv2d(in_channels=channel*2, out_channels=channel*coe, kernel_size=3,padding=4,dilation=4)\n",
    "        self.wasp4_c1=nn.Conv2d(in_channels=channel*coe, out_channels=channel*coe, kernel_size=1)\n",
    "        self.wasp4_c2=nn.Conv2d(in_channels=channel*coe, out_channels=channel*coe, kernel_size=1)\n",
    "\n",
    "        self.wasp8=nn.Conv2d(in_channels=channel*coe, out_channels=channel*coe, kernel_size=3,padding=8,dilation=8)\n",
    "        self.wasp8_c1=nn.Conv2d(in_channels=channel*coe, out_channels=channel*coe, kernel_size=1)\n",
    "        self.wasp8_c2=nn.Conv2d(in_channels=channel*coe, out_channels=channel*coe, kernel_size=1)\n",
    "\n",
    "        self.wasp16=nn.Conv2d(in_channels=channel*coe, out_channels=channel*coe, kernel_size=3,padding=16,dilation=16)\n",
    "        self.wasp16_c1=nn.Conv2d(in_channels=channel*coe, out_channels=channel*coe, kernel_size=1)\n",
    "        self.wasp16_c2=nn.Conv2d(in_channels=channel*coe, out_channels=channel*coe, kernel_size=1)\n",
    "\n",
    "        self.wasp32=nn.Conv2d(in_channels=channel*coe, out_channels=channel*coe, kernel_size=3,padding=32,dilation=32)\n",
    "        self.wasp32_c1=nn.Conv2d(in_channels=channel*coe, out_channels=channel*coe, kernel_size=1)\n",
    "        self.wasp32_c2=nn.Conv2d(in_channels=channel*coe, out_channels=channel*coe, kernel_size=1)\n",
    "\n",
    "        self.avgpool = nn.Sequential(\n",
    "            nn.AdaptiveAvgPool2d(256),\n",
    "            nn.Upsample(size=256)\n",
    "        )\n",
    "\n",
    "        self.layer4 = nn.Upsample(scale_factor=2)\n",
    "        self.layer5 = nn.Sequential(\n",
    "            nn.Conv2d(in_channels=channel*12, out_channels=channel, kernel_size=3,padding=1),\n",
    "            nn.ReLU(),   \n",
    "        )\n",
    "\n",
    "\n",
    "        self.layerfinal = nn.Sequential(\n",
    "            nn.Conv2d(in_channels=channel, out_channels=2, kernel_size=1),\n",
    "        )\n",
    "\n",
    "        self.softmax = nn.Softmax(dim=1)\n",
    "\n",
    "    def forward(self,x):\n",
    "        y=self.layer1(x)\n",
    "        y=self.layer2(y)\n",
    "        y2=y\n",
    "        y=self.layer3(y)\n",
    "\n",
    "        _res4=self.wasp4(y)\n",
    "        res4=self.wasp4_c1(_res4)\n",
    "        res4=self.wasp4_c2(res4)\n",
    "\n",
    "        _res8=self.wasp8(_res4)\n",
    "        res8=self.wasp8_c1(_res8)\n",
    "        res8=self.wasp8_c2(res8)\n",
    "\n",
    "        _res16=self.wasp16(_res8)\n",
    "        res16=self.wasp16_c1(_res16)\n",
    "        res16=self.wasp16_c2(res16)\n",
    "\n",
    "        _res32=self.wasp32(_res16)\n",
    "        res32=self.wasp32_c1(_res32)\n",
    "        res32=self.wasp32_c2(res32)\n",
    "\n",
    "        \n",
    "        avg = self.avgpool(y)\n",
    "        #print(avg.shape,res4.shape,res8.shape,res16.shape,res32.shape)\n",
    "        y=torch.cat((avg,res4,res8,res16,res32),1)\n",
    "        y=self.layer4(y)\n",
    "        y=torch.cat((y,y2),1)\n",
    "        y=self.layer5(y)\n",
    "        y=self.layerfinal(y)\n",
    "        y=self.softmax(y)\n",
    "        y = torch.flatten(y,2)\n",
    "        return y[:,0]\n",
    "    \n",
    "        \n",
    "    \n",
    "    def learn(self,train_loader,optimizer,loss_fcn,epochs=30):\n",
    "        train_loss_list = []\n",
    "        for epoch in tqdm(range(epochs)):\n",
    "            train_loss = 0.\n",
    "            for i,(image, defect_mask) in enumerate(tqdm(train_loader)):\n",
    "                image = image.to(device)\n",
    "                defect_mask = defect_mask.to(device)\n",
    "                output = self(image)\n",
    "                loss = loss_fcn(output, defect_mask)\n",
    "                optimizer.zero_grad()\n",
    "                loss.backward()\n",
    "                optimizer.step()\n",
    "                train_loss += loss.item()\n",
    "                #print(loss.item())\n",
    "            train_loss = train_loss / len(train_loader)\n",
    "            print(\"train_loss\", train_loss)\n",
    "            train_loss_list.append(train_loss)"
   ]
  },
  {
   "cell_type": "code",
   "execution_count": 5,
   "metadata": {},
   "outputs": [],
   "source": [
    "class pixel_wise_ce_loss(nn.Module):\n",
    "    def __init__(self):\n",
    "        super(pixel_wise_ce_loss, self).__init__()\n",
    "\n",
    "    def forward(self,output,defect_mask):\n",
    "        output = torch.clamp(output,min=1e-7,max=1-1e-7)\n",
    "        loss =  -0.8* defect_mask * torch.log(output) - 0.2*(1 - defect_mask)*torch.log(1 - output)\n",
    "        return torch.mean(loss)"
   ]
  },
  {
   "cell_type": "code",
   "execution_count": 6,
   "metadata": {},
   "outputs": [
    {
     "data": {
      "application/vnd.jupyter.widget-view+json": {
       "model_id": "7c00b66bc543489ca2cf0429328511ae",
       "version_major": 2,
       "version_minor": 0
      },
      "text/plain": [
       "  0%|          | 0/30 [00:00<?, ?it/s]"
      ]
     },
     "metadata": {},
     "output_type": "display_data"
    },
    {
     "data": {
      "application/vnd.jupyter.widget-view+json": {
       "model_id": "2fc1bced65624d5a9146661f2e187483",
       "version_major": 2,
       "version_minor": 0
      },
      "text/plain": [
       "  0%|          | 0/33 [00:00<?, ?it/s]"
      ]
     },
     "metadata": {},
     "output_type": "display_data"
    },
    {
     "ename": "RuntimeError",
     "evalue": "Unable to find a valid cuDNN algorithm to run convolution",
     "output_type": "error",
     "traceback": [
      "\u001b[1;31m---------------------------------------------------------------------------\u001b[0m",
      "\u001b[1;31mRuntimeError\u001b[0m                              Traceback (most recent call last)",
      "\u001b[1;32m~\\AppData\\Local\\Temp/ipykernel_13908/2103296475.py\u001b[0m in \u001b[0;36m<module>\u001b[1;34m\u001b[0m\n\u001b[0;32m      5\u001b[0m \u001b[1;33m\u001b[0m\u001b[0m\n\u001b[0;32m      6\u001b[0m \u001b[0moptimizer\u001b[0m \u001b[1;33m=\u001b[0m \u001b[0mtorch\u001b[0m\u001b[1;33m.\u001b[0m\u001b[0moptim\u001b[0m\u001b[1;33m.\u001b[0m\u001b[0mAdam\u001b[0m\u001b[1;33m(\u001b[0m\u001b[0mae1\u001b[0m\u001b[1;33m.\u001b[0m\u001b[0mparameters\u001b[0m\u001b[1;33m(\u001b[0m\u001b[1;33m)\u001b[0m\u001b[1;33m,\u001b[0m\u001b[0mlr\u001b[0m\u001b[1;33m=\u001b[0m\u001b[0mlearning_rate\u001b[0m\u001b[1;33m,\u001b[0m\u001b[0mamsgrad\u001b[0m\u001b[1;33m=\u001b[0m\u001b[1;32mTrue\u001b[0m \u001b[1;33m)\u001b[0m\u001b[1;33m\u001b[0m\u001b[1;33m\u001b[0m\u001b[0m\n\u001b[1;32m----> 7\u001b[1;33m \u001b[0mae1\u001b[0m\u001b[1;33m.\u001b[0m\u001b[0mlearn\u001b[0m\u001b[1;33m(\u001b[0m\u001b[0mtrain_dataloader\u001b[0m\u001b[1;33m,\u001b[0m\u001b[0moptimizer\u001b[0m\u001b[1;33m,\u001b[0m\u001b[0mloss_fcn\u001b[0m\u001b[1;33m,\u001b[0m\u001b[0mepochs\u001b[0m\u001b[1;33m=\u001b[0m\u001b[1;36m30\u001b[0m\u001b[1;33m)\u001b[0m\u001b[1;33m\u001b[0m\u001b[1;33m\u001b[0m\u001b[0m\n\u001b[0m",
      "\u001b[1;32m~\\AppData\\Local\\Temp/ipykernel_13908/1015514236.py\u001b[0m in \u001b[0;36mlearn\u001b[1;34m(self, train_loader, optimizer, loss_fcn, epochs)\u001b[0m\n\u001b[0;32m     96\u001b[0m                 \u001b[0mloss\u001b[0m \u001b[1;33m=\u001b[0m \u001b[0mloss_fcn\u001b[0m\u001b[1;33m(\u001b[0m\u001b[0moutput\u001b[0m\u001b[1;33m,\u001b[0m \u001b[0mdefect_mask\u001b[0m\u001b[1;33m)\u001b[0m\u001b[1;33m\u001b[0m\u001b[1;33m\u001b[0m\u001b[0m\n\u001b[0;32m     97\u001b[0m                 \u001b[0moptimizer\u001b[0m\u001b[1;33m.\u001b[0m\u001b[0mzero_grad\u001b[0m\u001b[1;33m(\u001b[0m\u001b[1;33m)\u001b[0m\u001b[1;33m\u001b[0m\u001b[1;33m\u001b[0m\u001b[0m\n\u001b[1;32m---> 98\u001b[1;33m                 \u001b[0mloss\u001b[0m\u001b[1;33m.\u001b[0m\u001b[0mbackward\u001b[0m\u001b[1;33m(\u001b[0m\u001b[1;33m)\u001b[0m\u001b[1;33m\u001b[0m\u001b[1;33m\u001b[0m\u001b[0m\n\u001b[0m\u001b[0;32m     99\u001b[0m                 \u001b[0moptimizer\u001b[0m\u001b[1;33m.\u001b[0m\u001b[0mstep\u001b[0m\u001b[1;33m(\u001b[0m\u001b[1;33m)\u001b[0m\u001b[1;33m\u001b[0m\u001b[1;33m\u001b[0m\u001b[0m\n\u001b[0;32m    100\u001b[0m                 \u001b[0mtrain_loss\u001b[0m \u001b[1;33m+=\u001b[0m \u001b[0mloss\u001b[0m\u001b[1;33m.\u001b[0m\u001b[0mitem\u001b[0m\u001b[1;33m(\u001b[0m\u001b[1;33m)\u001b[0m\u001b[1;33m\u001b[0m\u001b[1;33m\u001b[0m\u001b[0m\n",
      "\u001b[1;32mC:\\ProgramData\\Anaconda3\\lib\\site-packages\\torch\\_tensor.py\u001b[0m in \u001b[0;36mbackward\u001b[1;34m(self, gradient, retain_graph, create_graph, inputs)\u001b[0m\n\u001b[0;32m    361\u001b[0m                 \u001b[0mcreate_graph\u001b[0m\u001b[1;33m=\u001b[0m\u001b[0mcreate_graph\u001b[0m\u001b[1;33m,\u001b[0m\u001b[1;33m\u001b[0m\u001b[1;33m\u001b[0m\u001b[0m\n\u001b[0;32m    362\u001b[0m                 inputs=inputs)\n\u001b[1;32m--> 363\u001b[1;33m         \u001b[0mtorch\u001b[0m\u001b[1;33m.\u001b[0m\u001b[0mautograd\u001b[0m\u001b[1;33m.\u001b[0m\u001b[0mbackward\u001b[0m\u001b[1;33m(\u001b[0m\u001b[0mself\u001b[0m\u001b[1;33m,\u001b[0m \u001b[0mgradient\u001b[0m\u001b[1;33m,\u001b[0m \u001b[0mretain_graph\u001b[0m\u001b[1;33m,\u001b[0m \u001b[0mcreate_graph\u001b[0m\u001b[1;33m,\u001b[0m \u001b[0minputs\u001b[0m\u001b[1;33m=\u001b[0m\u001b[0minputs\u001b[0m\u001b[1;33m)\u001b[0m\u001b[1;33m\u001b[0m\u001b[1;33m\u001b[0m\u001b[0m\n\u001b[0m\u001b[0;32m    364\u001b[0m \u001b[1;33m\u001b[0m\u001b[0m\n\u001b[0;32m    365\u001b[0m     \u001b[1;32mdef\u001b[0m \u001b[0mregister_hook\u001b[0m\u001b[1;33m(\u001b[0m\u001b[0mself\u001b[0m\u001b[1;33m,\u001b[0m \u001b[0mhook\u001b[0m\u001b[1;33m)\u001b[0m\u001b[1;33m:\u001b[0m\u001b[1;33m\u001b[0m\u001b[1;33m\u001b[0m\u001b[0m\n",
      "\u001b[1;32mC:\\ProgramData\\Anaconda3\\lib\\site-packages\\torch\\autograd\\__init__.py\u001b[0m in \u001b[0;36mbackward\u001b[1;34m(tensors, grad_tensors, retain_graph, create_graph, grad_variables, inputs)\u001b[0m\n\u001b[0;32m    171\u001b[0m     \u001b[1;31m# some Python versions print out the first line of a multi-line function\u001b[0m\u001b[1;33m\u001b[0m\u001b[1;33m\u001b[0m\u001b[0m\n\u001b[0;32m    172\u001b[0m     \u001b[1;31m# calls in the traceback and some print out the last line\u001b[0m\u001b[1;33m\u001b[0m\u001b[1;33m\u001b[0m\u001b[0m\n\u001b[1;32m--> 173\u001b[1;33m     Variable._execution_engine.run_backward(  # Calls into the C++ engine to run the backward pass\n\u001b[0m\u001b[0;32m    174\u001b[0m         \u001b[0mtensors\u001b[0m\u001b[1;33m,\u001b[0m \u001b[0mgrad_tensors_\u001b[0m\u001b[1;33m,\u001b[0m \u001b[0mretain_graph\u001b[0m\u001b[1;33m,\u001b[0m \u001b[0mcreate_graph\u001b[0m\u001b[1;33m,\u001b[0m \u001b[0minputs\u001b[0m\u001b[1;33m,\u001b[0m\u001b[1;33m\u001b[0m\u001b[1;33m\u001b[0m\u001b[0m\n\u001b[0;32m    175\u001b[0m         allow_unreachable=True, accumulate_grad=True)  # Calls into the C++ engine to run the backward pass\n",
      "\u001b[1;31mRuntimeError\u001b[0m: Unable to find a valid cuDNN algorithm to run convolution"
     ]
    }
   ],
   "source": [
    "ae1 = autoencoder_wasp().to(device)\n",
    "#loss_fcn = nn.BCELoss()\n",
    "loss_fcn = pixel_wise_ce_loss()\n",
    "learning_rate = 0.0001\n",
    "\n",
    "optimizer = torch.optim.Adam(ae1.parameters(),lr=learning_rate,amsgrad=True )\n",
    "ae1.learn(train_dataloader,optimizer,loss_fcn,epochs=30)"
   ]
  },
  {
   "cell_type": "code",
   "execution_count": null,
   "metadata": {},
   "outputs": [],
   "source": [
    "def draw(img):\n",
    "    with torch.no_grad():\n",
    "        plt.imshow(img.cpu().numpy().reshape((512,512)), cmap='gray');\n",
    "        plt.axis('off');"
   ]
  },
  {
   "cell_type": "code",
   "execution_count": null,
   "metadata": {},
   "outputs": [],
   "source": [
    "with torch.no_grad():\n",
    "    plt.figure(figsize=(14,7))\n",
    "    ae1.to(device)\n",
    "    image, defect_mask = next(iter(test_dataloader))\n",
    "    defect_mask=defect_mask.to(device)\n",
    "    image = image.to(device)\n",
    "    output = ae1(image)\n",
    "    plt.subplot(1,2,1); draw(defect_mask[0]);\n",
    "    plt.subplot(1,2,2); draw(output[0]);\n"
   ]
  },
  {
   "cell_type": "code",
   "execution_count": null,
   "metadata": {},
   "outputs": [],
   "source": [
    "torch.save(ae1.state_dict(), 'ae_wasp.pt')"
   ]
  }
 ],
 "metadata": {
  "interpreter": {
   "hash": "b3ba2566441a7c06988d0923437866b63cedc61552a5af99d1f4fb67d367b25f"
  },
  "kernelspec": {
   "display_name": "Python 3.9.7 ('base')",
   "language": "python",
   "name": "python3"
  },
  "language_info": {
   "codemirror_mode": {
    "name": "ipython",
    "version": 3
   },
   "file_extension": ".py",
   "mimetype": "text/x-python",
   "name": "python",
   "nbconvert_exporter": "python",
   "pygments_lexer": "ipython3",
   "version": "3.9.7"
  },
  "orig_nbformat": 4
 },
 "nbformat": 4,
 "nbformat_minor": 2
}
