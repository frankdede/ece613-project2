{
 "cells": [
  {
   "cell_type": "code",
   "execution_count": 7,
   "metadata": {},
   "outputs": [],
   "source": [
    "\n",
    "import torch\n",
    "import sys\n",
    "from torch.utils.data import DataLoader\n",
    "from torchvision.transforms import Lambda\n",
    "import numpy as np\n",
    "import pandas as pd\n",
    "import matplotlib.pyplot as plt\n",
    "import torchvision\n",
    "import torchvision.transforms as transforms\n",
    "import torch\n",
    "import torch.nn as nn\n",
    "from data import DAGMDataset\n",
    "from settings import TRAINING_LABEL_FILE_PATH, TEST_LABEL_FILE_PATH\n",
    "import matplotlib.pyplot as plt\n",
    "from torchvision.io import read_image\n",
    "from tqdm.notebook import tqdm\n",
    "device = torch.device(\"cuda:0\" if torch.cuda.is_available() else \"cpu\")"
   ]
  },
  {
   "cell_type": "code",
   "execution_count": 8,
   "metadata": {},
   "outputs": [],
   "source": [
    "class AEDataset(DAGMDataset):\n",
    "    def __init__(self, meta_file, transform=None, target_transform=None, defect_only=False):\n",
    "        super(AEDataset, self).__init__(meta_file,transform,target_transform, defect_only)\n",
    "        #self.meta_df=self.meta_df[self.meta_df[\"class\"]<=5]\n",
    "\n",
    "    def __getitem__(self,idx):\n",
    "        img_path = self.meta_df[\"img_file\"].iloc[idx]\n",
    "        image = read_image(img_path).float()\n",
    "        has_defect = self.meta_df[\"has_defect\"].iloc[idx] == 1\n",
    "        defect_mask_path = str(self.meta_df[\"label_file\"].iloc[idx])\n",
    "        if self.transform:\n",
    "            image = self.transform(image)\n",
    "        if has_defect:\n",
    "            defect_mask = read_image(defect_mask_path).flatten().float()\n",
    "        else:\n",
    "            defect_mask = torch.zeros(512**2, dtype=torch.float)\n",
    "\n",
    "        defect_mask[defect_mask!=0.]=1\n",
    "        #defect_mask is a 512**2 binary tensor\n",
    "        return image.float(), defect_mask.float()\n",
    "\n"
   ]
  },
  {
   "cell_type": "code",
   "execution_count": 9,
   "metadata": {},
   "outputs": [],
   "source": [
    "transform = transforms.Normalize((0,), (255,))\n",
    "\n",
    "batch_size=2\n",
    "defect_only = True\n",
    "training_set = AEDataset(meta_file=TRAINING_LABEL_FILE_PATH, transform=transform, defect_only=defect_only)\n",
    "testing_set = AEDataset(meta_file=TEST_LABEL_FILE_PATH, transform=transform, defect_only=defect_only)\n",
    "train_dataloader = DataLoader(training_set, batch_size=batch_size, shuffle=True)\n",
    "test_dataloader = DataLoader(testing_set, batch_size=batch_size, shuffle=True)"
   ]
  },
  {
   "cell_type": "code",
   "execution_count": 10,
   "metadata": {},
   "outputs": [],
   "source": [
    "class autoencoder_wasp(nn.Module):\n",
    "    def __init__(self):\n",
    "        super(autoencoder_wasp, self).__init__()\n",
    "        channel=64\n",
    "        self.layer1 = nn.Sequential(\n",
    "            nn.Conv2d(in_channels=1, out_channels=channel, kernel_size=3,padding=1),\n",
    "            nn.ReLU(),   \n",
    "        )\n",
    "\n",
    "        self.layer2 = nn.Sequential(\n",
    "            nn.Conv2d(in_channels=channel, out_channels=2*channel, kernel_size=3,padding=1),\n",
    "            nn.ReLU(),   \n",
    "        )\n",
    "\n",
    "        self.layer3 = nn.MaxPool2d(2,2)\n",
    "        \n",
    "        coe=2\n",
    "        self.wasp4=nn.Conv2d(in_channels=channel*2, out_channels=channel*coe, kernel_size=3,padding=4,dilation=4)\n",
    "        self.wasp4_c1=nn.Conv2d(in_channels=channel*coe, out_channels=channel*coe, kernel_size=1)\n",
    "        self.wasp4_c2=nn.Conv2d(in_channels=channel*coe, out_channels=channel*coe, kernel_size=1)\n",
    "\n",
    "        self.wasp8=nn.Conv2d(in_channels=channel*coe, out_channels=channel*coe, kernel_size=3,padding=8,dilation=8)\n",
    "        self.wasp8_c1=nn.Conv2d(in_channels=channel*coe, out_channels=channel*coe, kernel_size=1)\n",
    "        self.wasp8_c2=nn.Conv2d(in_channels=channel*coe, out_channels=channel*coe, kernel_size=1)\n",
    "\n",
    "        self.wasp16=nn.Conv2d(in_channels=channel*coe, out_channels=channel*coe, kernel_size=3,padding=16,dilation=16)\n",
    "        self.wasp16_c1=nn.Conv2d(in_channels=channel*coe, out_channels=channel*coe, kernel_size=1)\n",
    "        self.wasp16_c2=nn.Conv2d(in_channels=channel*coe, out_channels=channel*coe, kernel_size=1)\n",
    "\n",
    "        self.wasp32=nn.Conv2d(in_channels=channel*coe, out_channels=channel*coe, kernel_size=3,padding=32,dilation=32)\n",
    "        self.wasp32_c1=nn.Conv2d(in_channels=channel*coe, out_channels=channel*coe, kernel_size=1)\n",
    "        self.wasp32_c2=nn.Conv2d(in_channels=channel*coe, out_channels=channel*coe, kernel_size=1)\n",
    "\n",
    "        self.avgpool = nn.Sequential(\n",
    "            nn.AdaptiveAvgPool2d(256),\n",
    "            nn.Upsample(size=256)\n",
    "        )\n",
    "\n",
    "        self.layer4 = nn.Upsample(scale_factor=2)\n",
    "        self.layer5 = nn.Sequential(\n",
    "            nn.Conv2d(in_channels=channel*12, out_channels=channel, kernel_size=3,padding=1),\n",
    "            nn.ReLU(),   \n",
    "        )\n",
    "\n",
    "\n",
    "        self.layerfinal = nn.Sequential(\n",
    "            nn.Conv2d(in_channels=channel, out_channels=2, kernel_size=1),\n",
    "        )\n",
    "\n",
    "        self.softmax = nn.Softmax(dim=1)\n",
    "\n",
    "    def forward(self,x):\n",
    "        y=self.layer1(x)\n",
    "        y=self.layer2(y)\n",
    "        y2=y\n",
    "        y=self.layer3(y)\n",
    "\n",
    "        _res4=self.wasp4(y)\n",
    "        res4=self.wasp4_c1(_res4)\n",
    "        res4=self.wasp4_c2(res4)\n",
    "\n",
    "        _res8=self.wasp8(_res4)\n",
    "        res8=self.wasp8_c1(_res8)\n",
    "        res8=self.wasp8_c2(res8)\n",
    "\n",
    "        _res16=self.wasp16(_res8)\n",
    "        res16=self.wasp16_c1(_res16)\n",
    "        res16=self.wasp16_c2(res16)\n",
    "\n",
    "        _res32=self.wasp32(_res16)\n",
    "        res32=self.wasp32_c1(_res32)\n",
    "        res32=self.wasp32_c2(res32)\n",
    "\n",
    "        \n",
    "        avg = self.avgpool(y)\n",
    "        #print(avg.shape,res4.shape,res8.shape,res16.shape,res32.shape)\n",
    "        y=torch.cat((avg,res4,res8,res16,res32),1)\n",
    "        y=self.layer4(y)\n",
    "        y=torch.cat((y,y2),1)\n",
    "        y=self.layer5(y)\n",
    "        y=self.layerfinal(y)\n",
    "        y=self.softmax(y)\n",
    "        y = torch.flatten(y,2)\n",
    "        return y[:,0]\n",
    "    \n",
    "        \n",
    "    \n",
    "    def learn(self,train_loader,optimizer,loss_fcn,epochs=30):\n",
    "        train_loss_list = []\n",
    "        for epoch in tqdm(range(epochs)):\n",
    "            train_loss = 0.\n",
    "            for i,(image, defect_mask) in enumerate(tqdm(train_loader)):\n",
    "                image = image.to(device)\n",
    "                defect_mask = defect_mask.to(device)\n",
    "                output = self(image)\n",
    "                loss = loss_fcn(output, defect_mask)\n",
    "                optimizer.zero_grad()\n",
    "                loss.backward()\n",
    "                optimizer.step()\n",
    "                train_loss += loss.item()\n",
    "                #print(loss.item())\n",
    "            train_loss = train_loss / len(train_loader)\n",
    "            print(\"train_loss\", train_loss)\n",
    "            train_loss_list.append(train_loss)"
   ]
  },
  {
   "cell_type": "code",
   "execution_count": 11,
   "metadata": {},
   "outputs": [],
   "source": [
    "class pixel_wise_ce_loss(nn.Module):\n",
    "    def __init__(self):\n",
    "        super(pixel_wise_ce_loss, self).__init__()\n",
    "\n",
    "    def forward(self,output,defect_mask):\n",
    "        output = torch.clamp(output,min=1e-7,max=1-1e-7)\n",
    "        loss =  -0.8* defect_mask * torch.log(output) - 0.2*(1 - defect_mask)*torch.log(1 - output)\n",
    "        return torch.mean(loss)"
   ]
  },
  {
   "cell_type": "code",
   "execution_count": 12,
   "metadata": {},
   "outputs": [
    {
     "data": {
      "application/vnd.jupyter.widget-view+json": {
       "model_id": "b6a5071bc43b4fe7a6db565576e4fa41",
       "version_major": 2,
       "version_minor": 0
      },
      "text/plain": [
       "  0%|          | 0/30 [00:00<?, ?it/s]"
      ]
     },
     "metadata": {},
     "output_type": "display_data"
    },
    {
     "data": {
      "application/vnd.jupyter.widget-view+json": {
       "model_id": "6183efad602343d988c949eadf3fffb8",
       "version_major": 2,
       "version_minor": 0
      },
      "text/plain": [
       "  0%|          | 0/66 [00:00<?, ?it/s]"
      ]
     },
     "metadata": {},
     "output_type": "display_data"
    },
    {
     "name": "stdout",
     "output_type": "stream",
     "text": [
      "train_loss 0.04955819367685101\n"
     ]
    },
    {
     "data": {
      "application/vnd.jupyter.widget-view+json": {
       "model_id": "39f9b4a454eb4080b4c23170bef0be79",
       "version_major": 2,
       "version_minor": 0
      },
      "text/plain": [
       "  0%|          | 0/66 [00:00<?, ?it/s]"
      ]
     },
     "metadata": {},
     "output_type": "display_data"
    },
    {
     "name": "stdout",
     "output_type": "stream",
     "text": [
      "train_loss 0.03846840297972614\n"
     ]
    },
    {
     "data": {
      "application/vnd.jupyter.widget-view+json": {
       "model_id": "6064eb009a5c4539b041ebd9476fc841",
       "version_major": 2,
       "version_minor": 0
      },
      "text/plain": [
       "  0%|          | 0/66 [00:00<?, ?it/s]"
      ]
     },
     "metadata": {},
     "output_type": "display_data"
    },
    {
     "name": "stdout",
     "output_type": "stream",
     "text": [
      "train_loss 0.03754414194686846\n"
     ]
    },
    {
     "data": {
      "application/vnd.jupyter.widget-view+json": {
       "model_id": "73569790f51c43bb9c5395c980dd2b7a",
       "version_major": 2,
       "version_minor": 0
      },
      "text/plain": [
       "  0%|          | 0/66 [00:00<?, ?it/s]"
      ]
     },
     "metadata": {},
     "output_type": "display_data"
    },
    {
     "name": "stdout",
     "output_type": "stream",
     "text": [
      "train_loss 0.03611394317086899\n"
     ]
    },
    {
     "data": {
      "application/vnd.jupyter.widget-view+json": {
       "model_id": "7a1a81acbf0148299be4609308b902a6",
       "version_major": 2,
       "version_minor": 0
      },
      "text/plain": [
       "  0%|          | 0/66 [00:00<?, ?it/s]"
      ]
     },
     "metadata": {},
     "output_type": "display_data"
    },
    {
     "name": "stdout",
     "output_type": "stream",
     "text": [
      "train_loss 0.03521889062937011\n"
     ]
    },
    {
     "data": {
      "application/vnd.jupyter.widget-view+json": {
       "model_id": "c0a5c6d1838d46d789ee491170576831",
       "version_major": 2,
       "version_minor": 0
      },
      "text/plain": [
       "  0%|          | 0/66 [00:00<?, ?it/s]"
      ]
     },
     "metadata": {},
     "output_type": "display_data"
    },
    {
     "name": "stdout",
     "output_type": "stream",
     "text": [
      "train_loss 0.03194589399252877\n"
     ]
    },
    {
     "data": {
      "application/vnd.jupyter.widget-view+json": {
       "model_id": "7694147de96d4977b9fb7c5164cf89d2",
       "version_major": 2,
       "version_minor": 0
      },
      "text/plain": [
       "  0%|          | 0/66 [00:00<?, ?it/s]"
      ]
     },
     "metadata": {},
     "output_type": "display_data"
    },
    {
     "name": "stdout",
     "output_type": "stream",
     "text": [
      "train_loss 0.02937084251563206\n"
     ]
    },
    {
     "data": {
      "application/vnd.jupyter.widget-view+json": {
       "model_id": "8620a297ef924224adffc759ba136424",
       "version_major": 2,
       "version_minor": 0
      },
      "text/plain": [
       "  0%|          | 0/66 [00:00<?, ?it/s]"
      ]
     },
     "metadata": {},
     "output_type": "display_data"
    },
    {
     "name": "stdout",
     "output_type": "stream",
     "text": [
      "train_loss 0.025071940786967225\n"
     ]
    },
    {
     "data": {
      "application/vnd.jupyter.widget-view+json": {
       "model_id": "48051b4cf4a742268c9ae5fe38415ac2",
       "version_major": 2,
       "version_minor": 0
      },
      "text/plain": [
       "  0%|          | 0/66 [00:00<?, ?it/s]"
      ]
     },
     "metadata": {},
     "output_type": "display_data"
    },
    {
     "name": "stdout",
     "output_type": "stream",
     "text": [
      "train_loss 0.01961616143429031\n"
     ]
    },
    {
     "data": {
      "application/vnd.jupyter.widget-view+json": {
       "model_id": "718aff2130f140e1902875f0191ca0c7",
       "version_major": 2,
       "version_minor": 0
      },
      "text/plain": [
       "  0%|          | 0/66 [00:00<?, ?it/s]"
      ]
     },
     "metadata": {},
     "output_type": "display_data"
    },
    {
     "name": "stdout",
     "output_type": "stream",
     "text": [
      "train_loss 0.016485136044635015\n"
     ]
    },
    {
     "data": {
      "application/vnd.jupyter.widget-view+json": {
       "model_id": "5273f764c24f4f1386b6c06a5aaa9b23",
       "version_major": 2,
       "version_minor": 0
      },
      "text/plain": [
       "  0%|          | 0/66 [00:00<?, ?it/s]"
      ]
     },
     "metadata": {},
     "output_type": "display_data"
    },
    {
     "name": "stdout",
     "output_type": "stream",
     "text": [
      "train_loss 0.015838693993194312\n"
     ]
    },
    {
     "data": {
      "application/vnd.jupyter.widget-view+json": {
       "model_id": "00c37f5d5ff34b939265e5d0e8730b41",
       "version_major": 2,
       "version_minor": 0
      },
      "text/plain": [
       "  0%|          | 0/66 [00:00<?, ?it/s]"
      ]
     },
     "metadata": {},
     "output_type": "display_data"
    },
    {
     "name": "stdout",
     "output_type": "stream",
     "text": [
      "train_loss 0.01613128266762942\n"
     ]
    },
    {
     "data": {
      "application/vnd.jupyter.widget-view+json": {
       "model_id": "af9cda8b2962462f86d0ee349229bcef",
       "version_major": 2,
       "version_minor": 0
      },
      "text/plain": [
       "  0%|          | 0/66 [00:00<?, ?it/s]"
      ]
     },
     "metadata": {},
     "output_type": "display_data"
    },
    {
     "name": "stdout",
     "output_type": "stream",
     "text": [
      "train_loss 0.014631818373207792\n"
     ]
    },
    {
     "data": {
      "application/vnd.jupyter.widget-view+json": {
       "model_id": "18e1f9370e8845e2b7ba7feb0fbe620a",
       "version_major": 2,
       "version_minor": 0
      },
      "text/plain": [
       "  0%|          | 0/66 [00:00<?, ?it/s]"
      ]
     },
     "metadata": {},
     "output_type": "display_data"
    },
    {
     "name": "stdout",
     "output_type": "stream",
     "text": [
      "train_loss 0.013924553090791133\n"
     ]
    },
    {
     "data": {
      "application/vnd.jupyter.widget-view+json": {
       "model_id": "0f6a6a5ead264a6b976fb2336f11a627",
       "version_major": 2,
       "version_minor": 0
      },
      "text/plain": [
       "  0%|          | 0/66 [00:00<?, ?it/s]"
      ]
     },
     "metadata": {},
     "output_type": "display_data"
    },
    {
     "name": "stdout",
     "output_type": "stream",
     "text": [
      "train_loss 0.012957170475133215\n"
     ]
    },
    {
     "data": {
      "application/vnd.jupyter.widget-view+json": {
       "model_id": "b6fff83f83ec4d74b8e20f0653b5077a",
       "version_major": 2,
       "version_minor": 0
      },
      "text/plain": [
       "  0%|          | 0/66 [00:00<?, ?it/s]"
      ]
     },
     "metadata": {},
     "output_type": "display_data"
    },
    {
     "name": "stdout",
     "output_type": "stream",
     "text": [
      "train_loss 0.011950148668168395\n"
     ]
    },
    {
     "data": {
      "application/vnd.jupyter.widget-view+json": {
       "model_id": "ed544c64e94a4787aa5a39616b2615e1",
       "version_major": 2,
       "version_minor": 0
      },
      "text/plain": [
       "  0%|          | 0/66 [00:00<?, ?it/s]"
      ]
     },
     "metadata": {},
     "output_type": "display_data"
    },
    {
     "name": "stdout",
     "output_type": "stream",
     "text": [
      "train_loss 0.01274356301380039\n"
     ]
    },
    {
     "data": {
      "application/vnd.jupyter.widget-view+json": {
       "model_id": "056377c898dd46eda7ad0ee861152bbb",
       "version_major": 2,
       "version_minor": 0
      },
      "text/plain": [
       "  0%|          | 0/66 [00:00<?, ?it/s]"
      ]
     },
     "metadata": {},
     "output_type": "display_data"
    },
    {
     "name": "stdout",
     "output_type": "stream",
     "text": [
      "train_loss 0.011303395267477203\n"
     ]
    },
    {
     "data": {
      "application/vnd.jupyter.widget-view+json": {
       "model_id": "ffbe18ee9d944697a2c9cab17f460c8b",
       "version_major": 2,
       "version_minor": 0
      },
      "text/plain": [
       "  0%|          | 0/66 [00:00<?, ?it/s]"
      ]
     },
     "metadata": {},
     "output_type": "display_data"
    },
    {
     "name": "stdout",
     "output_type": "stream",
     "text": [
      "train_loss 0.011090146201295835\n"
     ]
    },
    {
     "data": {
      "application/vnd.jupyter.widget-view+json": {
       "model_id": "65b20caa32be42ea8e15da8ef42dd401",
       "version_major": 2,
       "version_minor": 0
      },
      "text/plain": [
       "  0%|          | 0/66 [00:00<?, ?it/s]"
      ]
     },
     "metadata": {},
     "output_type": "display_data"
    },
    {
     "name": "stdout",
     "output_type": "stream",
     "text": [
      "train_loss 0.010524346918276879\n"
     ]
    },
    {
     "data": {
      "application/vnd.jupyter.widget-view+json": {
       "model_id": "6123c73c8e754198af2b041fa5d56a84",
       "version_major": 2,
       "version_minor": 0
      },
      "text/plain": [
       "  0%|          | 0/66 [00:00<?, ?it/s]"
      ]
     },
     "metadata": {},
     "output_type": "display_data"
    },
    {
     "name": "stdout",
     "output_type": "stream",
     "text": [
      "train_loss 0.010943577136265847\n"
     ]
    },
    {
     "data": {
      "application/vnd.jupyter.widget-view+json": {
       "model_id": "36a2fd6600f54fa9befd4c6f593c6906",
       "version_major": 2,
       "version_minor": 0
      },
      "text/plain": [
       "  0%|          | 0/66 [00:00<?, ?it/s]"
      ]
     },
     "metadata": {},
     "output_type": "display_data"
    },
    {
     "name": "stdout",
     "output_type": "stream",
     "text": [
      "train_loss 0.010095638619862835\n"
     ]
    },
    {
     "data": {
      "application/vnd.jupyter.widget-view+json": {
       "model_id": "5547fffd0f894789ad2ea8aba7c2bc19",
       "version_major": 2,
       "version_minor": 0
      },
      "text/plain": [
       "  0%|          | 0/66 [00:00<?, ?it/s]"
      ]
     },
     "metadata": {},
     "output_type": "display_data"
    },
    {
     "name": "stdout",
     "output_type": "stream",
     "text": [
      "train_loss 0.01011467620088352\n"
     ]
    },
    {
     "data": {
      "application/vnd.jupyter.widget-view+json": {
       "model_id": "74b754d981dd4793b5304507a7e1dd50",
       "version_major": 2,
       "version_minor": 0
      },
      "text/plain": [
       "  0%|          | 0/66 [00:00<?, ?it/s]"
      ]
     },
     "metadata": {},
     "output_type": "display_data"
    },
    {
     "name": "stdout",
     "output_type": "stream",
     "text": [
      "train_loss 0.00936889402907003\n"
     ]
    },
    {
     "data": {
      "application/vnd.jupyter.widget-view+json": {
       "model_id": "5a1ab8ce15314a96b6aa0e5b3f96b5c0",
       "version_major": 2,
       "version_minor": 0
      },
      "text/plain": [
       "  0%|          | 0/66 [00:00<?, ?it/s]"
      ]
     },
     "metadata": {},
     "output_type": "display_data"
    },
    {
     "name": "stdout",
     "output_type": "stream",
     "text": [
      "train_loss 0.00883259839611128\n"
     ]
    },
    {
     "data": {
      "application/vnd.jupyter.widget-view+json": {
       "model_id": "eb991ec26f724483b60a725653216d40",
       "version_major": 2,
       "version_minor": 0
      },
      "text/plain": [
       "  0%|          | 0/66 [00:00<?, ?it/s]"
      ]
     },
     "metadata": {},
     "output_type": "display_data"
    },
    {
     "name": "stdout",
     "output_type": "stream",
     "text": [
      "train_loss 0.008497565437926713\n"
     ]
    },
    {
     "data": {
      "application/vnd.jupyter.widget-view+json": {
       "model_id": "1cedd6dd471641b498bc5eb0412f4072",
       "version_major": 2,
       "version_minor": 0
      },
      "text/plain": [
       "  0%|          | 0/66 [00:00<?, ?it/s]"
      ]
     },
     "metadata": {},
     "output_type": "display_data"
    },
    {
     "name": "stdout",
     "output_type": "stream",
     "text": [
      "train_loss 0.008728468612499648\n"
     ]
    },
    {
     "data": {
      "application/vnd.jupyter.widget-view+json": {
       "model_id": "5caad82b3d2b4e52a3a853802b2030bf",
       "version_major": 2,
       "version_minor": 0
      },
      "text/plain": [
       "  0%|          | 0/66 [00:00<?, ?it/s]"
      ]
     },
     "metadata": {},
     "output_type": "display_data"
    },
    {
     "name": "stdout",
     "output_type": "stream",
     "text": [
      "train_loss 0.009393283349433632\n"
     ]
    },
    {
     "data": {
      "application/vnd.jupyter.widget-view+json": {
       "model_id": "1317844474ca47c49c39b1f41513116d",
       "version_major": 2,
       "version_minor": 0
      },
      "text/plain": [
       "  0%|          | 0/66 [00:00<?, ?it/s]"
      ]
     },
     "metadata": {},
     "output_type": "display_data"
    },
    {
     "name": "stdout",
     "output_type": "stream",
     "text": [
      "train_loss 0.008384162648298749\n"
     ]
    },
    {
     "data": {
      "application/vnd.jupyter.widget-view+json": {
       "model_id": "7ae8a7fbe77a4967b4faea948993a7d9",
       "version_major": 2,
       "version_minor": 0
      },
      "text/plain": [
       "  0%|          | 0/66 [00:00<?, ?it/s]"
      ]
     },
     "metadata": {},
     "output_type": "display_data"
    },
    {
     "name": "stdout",
     "output_type": "stream",
     "text": [
      "train_loss 0.00807554084652414\n"
     ]
    }
   ],
   "source": [
    "ae1 = autoencoder_wasp().to(device)\n",
    "#loss_fcn = nn.BCELoss()\n",
    "loss_fcn = pixel_wise_ce_loss()\n",
    "learning_rate = 0.0001\n",
    "\n",
    "optimizer = torch.optim.Adam(ae1.parameters(),lr=learning_rate,amsgrad=True )\n",
    "ae1.learn(train_dataloader,optimizer,loss_fcn,epochs=30)"
   ]
  },
  {
   "cell_type": "code",
   "execution_count": 13,
   "metadata": {},
   "outputs": [],
   "source": [
    "def draw(img):\n",
    "    with torch.no_grad():\n",
    "        plt.imshow(img.cpu().numpy().reshape((512,512)), cmap='gray');\n",
    "        plt.axis('off');"
   ]
  },
  {
   "cell_type": "code",
   "execution_count": 43,
   "metadata": {},
   "outputs": [
    {
     "data": {
      "image/png": "[encoded data removed]",
      "text/plain": [
       "<Figure size 1008x504 with 2 Axes>"
      ]
     },
     "metadata": {
      "needs_background": "light"
     },
     "output_type": "display_data"
    }
   ],
   "source": [
    "with torch.no_grad():\n",
    "    plt.figure(figsize=(14,7))\n",
    "    ae1.to(device)\n",
    "    image, defect_mask = next(iter(test_dataloader))\n",
    "    defect_mask=defect_mask.to(device)\n",
    "    image = image.to(device)\n",
    "    output = ae1(image)\n",
    "    plt.subplot(1,2,1); draw(defect_mask[0]);\n",
    "    plt.subplot(1,2,2); draw(output[0]);\n"
   ]
  },
  {
   "cell_type": "code",
   "execution_count": 15,
   "metadata": {},
   "outputs": [],
   "source": [
    "torch.save(ae1.state_dict(), 'ae_wasp.pt')"
   ]
  }
 ],
 "metadata": {
  "interpreter": {
   "hash": "b3ba2566441a7c06988d0923437866b63cedc61552a5af99d1f4fb67d367b25f"
  },
  "kernelspec": {
   "display_name": "Python 3.9.7 ('base')",
   "language": "python",
   "name": "python3"
  },
  "language_info": {
   "codemirror_mode": {
    "name": "ipython",
    "version": 3
   },
   "file_extension": ".py",
   "mimetype": "text/x-python",
   "name": "python",
   "nbconvert_exporter": "python",
   "pygments_lexer": "ipython3",
   "version": "3.9.7"
  },
  "orig_nbformat": 4
 },
 "nbformat": 4,
 "nbformat_minor": 2
}
